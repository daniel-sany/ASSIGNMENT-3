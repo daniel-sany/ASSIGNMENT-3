{
 "cells": [
  {
   "cell_type": "markdown",
   "id": "9c6520f1",
   "metadata": {},
   "source": [
    "# ASSIGNMENT 3 #\n",
    "\n",
    "## 23/02/2023 ##\n",
    "\n",
    "### DANIEL SANY TCHAMDEU ###"
   ]
  },
  {
   "cell_type": "markdown",
   "id": "8945d632",
   "metadata": {},
   "source": [
    "### exercise 1 ###"
   ]
  },
  {
   "cell_type": "code",
   "execution_count": 53,
   "id": "935c95f5",
   "metadata": {},
   "outputs": [
    {
     "data": {
      "text/plain": [
       "30"
      ]
     },
     "execution_count": 53,
     "metadata": {},
     "output_type": "execute_result"
    }
   ],
   "source": [
    "x=lambda num1,num2: num1*num2\n",
    "x(5,6)"
   ]
  },
  {
   "cell_type": "markdown",
   "id": "a2210527",
   "metadata": {},
   "source": [
    "### exercise 2 ###"
   ]
  },
  {
   "cell_type": "code",
   "execution_count": 59,
   "id": "72be0055",
   "metadata": {},
   "outputs": [
    {
     "name": "stdout",
     "output_type": "stream",
     "text": [
      "Please enter the radius of the given circle: 10\n",
      "314.1592653589793\n"
     ]
    }
   ],
   "source": [
    "import math  \n",
    "  \n",
    "def area_of_the_circle (Radius):   \n",
    "    area = Radius** 2 * math.pi  \n",
    "    return area  \n",
    "  \n",
    "Radius = float (input (\"Please enter the radius of the given circle: \"))  \n",
    "print ( area_of_the_circle (Radius))  "
   ]
  },
  {
   "cell_type": "markdown",
   "id": "42f5b024",
   "metadata": {},
   "source": [
    "### exercise 3 ###"
   ]
  },
  {
   "cell_type": "code",
   "execution_count": 60,
   "id": "151f534b",
   "metadata": {},
   "outputs": [
    {
     "name": "stdout",
     "output_type": "stream",
     "text": [
      "Select operation.\n",
      "1.Add\n",
      "2.Subtract\n",
      "3.Multiply\n",
      "4.Divide\n",
      "Enter choice(1/2/3/4): 4\n",
      "Enter first number: 2\n",
      "Enter second number: 5\n",
      "0.4\n"
     ]
    }
   ],
   "source": [
    "\n",
    "def add(x, y):\n",
    "    return x + y\n",
    "\n",
    "def subtract(x, y):\n",
    "    return x - y\n",
    "\n",
    "def multiply(x, y):\n",
    "    return x * y\n",
    "\n",
    "def divide(x, y):\n",
    "    return x / y\n",
    "\n",
    "\n",
    "print(\"Select operation.\")\n",
    "print(\"1.Add\")\n",
    "print(\"2.Subtract\")\n",
    "print(\"3.Multiply\")\n",
    "print(\"4.Divide\")\n",
    "\n",
    "while True:\n",
    "    choice = input(\"Enter choice(1/2/3/4): \")\n",
    "\n",
    "    if choice in ('1', '2', '3', '4'):\n",
    "        try:\n",
    "            num1 = float(input(\"Enter first number: \"))\n",
    "            num2 = float(input(\"Enter second number: \"))\n",
    "        except ValueError:\n",
    "            print(\"Invalid input. Please enter a number.\")\n",
    "            continue\n",
    "\n",
    "        if choice == '1':\n",
    "            print( add(num1, num2))\n",
    "\n",
    "        elif choice == '2':\n",
    "            print( subtract(num1, num2))\n",
    "\n",
    "        elif choice == '3':\n",
    "            print( multiply(num1, num2))\n",
    "\n",
    "        elif choice == '4':\n",
    "            print( divide(num1, num2))\n",
    "            \n",
    "        \n",
    "        break"
   ]
  },
  {
   "cell_type": "markdown",
   "id": "ae0a602e",
   "metadata": {},
   "source": [
    "###  exercise 4 ###"
   ]
  },
  {
   "cell_type": "code",
   "execution_count": 57,
   "id": "f996d107",
   "metadata": {},
   "outputs": [
    {
     "name": "stdout",
     "output_type": "stream",
     "text": [
      "50\n"
     ]
    }
   ],
   "source": [
    "class Rectangle():\n",
    "    def __init__(self, length , width ):\n",
    "        self.length = length\n",
    "        self.width  = width\n",
    "\n",
    "    def rectangle_area(self):\n",
    "        return self.length*self.width\n",
    "\n",
    "newRectangle = Rectangle(5,10)\n",
    "print(newRectangle.rectangle_area())\n"
   ]
  },
  {
   "cell_type": "markdown",
   "id": "17945262",
   "metadata": {},
   "source": [
    "### exercise 5 ###"
   ]
  },
  {
   "cell_type": "code",
   "execution_count": 58,
   "id": "8c6439db",
   "metadata": {},
   "outputs": [
    {
     "name": "stdout",
     "output_type": "stream",
     "text": [
      "The area is:  25\n",
      "This is a:  square\n"
     ]
    }
   ],
   "source": [
    "class shape():\n",
    "    def __init__(self, name ,length):\n",
    "        self.name = name\n",
    "        self.length = length \n",
    "    def area(self):\n",
    "        area=0\n",
    "        return area\n",
    "    \n",
    "class Square(shape):\n",
    "    def __init__(self, name , length ):\n",
    "        self.name = name\n",
    "        self.length = length\n",
    "    def area(self):\n",
    "        return self.length*self.length \n",
    "    def describe(self):\n",
    "        return self.name\n",
    "s=Square('square',5)\n",
    "print(\"The area is: \",s.area())\n",
    "print(\"This is a: \",s.describe())"
   ]
  }
 ],
 "metadata": {
  "kernelspec": {
   "display_name": "Python 3 (ipykernel)",
   "language": "python",
   "name": "python3"
  },
  "language_info": {
   "codemirror_mode": {
    "name": "ipython",
    "version": 3
   },
   "file_extension": ".py",
   "mimetype": "text/x-python",
   "name": "python",
   "nbconvert_exporter": "python",
   "pygments_lexer": "ipython3",
   "version": "3.9.13"
  }
 },
 "nbformat": 4,
 "nbformat_minor": 5
}
